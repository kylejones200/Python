{
 "cells": [
  {
   "cell_type": "markdown",
   "metadata": {},
   "source": [
    "Using Quandl to get stock prices"
   ]
  },
  {
   "cell_type": "code",
   "execution_count": 2,
   "metadata": {
    "collapsed": true
   },
   "outputs": [],
   "source": [
    "import quandl\n",
    "import pandas\n",
    "import matplotlib.pyplot as plt\n",
    "%matplotlib inline "
   ]
  },
  {
   "cell_type": "code",
   "execution_count": 19,
   "metadata": {},
   "outputs": [],
   "source": [
    "mydata = quandl.get([\"WIKI/MSFT\"]) \n",
    "#getting historic stock prices for Microsoft from March 1986- March 2018"
   ]
  },
  {
   "cell_type": "code",
   "execution_count": 23,
   "metadata": {},
   "outputs": [
    {
     "data": {
      "text/html": [
       "<div>\n",
       "<style scoped>\n",
       "    .dataframe tbody tr th:only-of-type {\n",
       "        vertical-align: middle;\n",
       "    }\n",
       "\n",
       "    .dataframe tbody tr th {\n",
       "        vertical-align: top;\n",
       "    }\n",
       "\n",
       "    .dataframe thead th {\n",
       "        text-align: right;\n",
       "    }\n",
       "</style>\n",
       "<table border=\"1\" class=\"dataframe\">\n",
       "  <thead>\n",
       "    <tr style=\"text-align: right;\">\n",
       "      <th></th>\n",
       "      <th>WIKI/MSFT - Open</th>\n",
       "      <th>WIKI/MSFT - High</th>\n",
       "      <th>WIKI/MSFT - Low</th>\n",
       "      <th>WIKI/MSFT - Close</th>\n",
       "      <th>WIKI/MSFT - Volume</th>\n",
       "      <th>WIKI/MSFT - Ex-Dividend</th>\n",
       "      <th>WIKI/MSFT - Split Ratio</th>\n",
       "      <th>WIKI/MSFT - Adj. Open</th>\n",
       "      <th>WIKI/MSFT - Adj. High</th>\n",
       "      <th>WIKI/MSFT - Adj. Low</th>\n",
       "      <th>WIKI/MSFT - Adj. Close</th>\n",
       "      <th>WIKI/MSFT - Adj. Volume</th>\n",
       "    </tr>\n",
       "    <tr>\n",
       "      <th>Date</th>\n",
       "      <th></th>\n",
       "      <th></th>\n",
       "      <th></th>\n",
       "      <th></th>\n",
       "      <th></th>\n",
       "      <th></th>\n",
       "      <th></th>\n",
       "      <th></th>\n",
       "      <th></th>\n",
       "      <th></th>\n",
       "      <th></th>\n",
       "      <th></th>\n",
       "    </tr>\n",
       "  </thead>\n",
       "  <tbody>\n",
       "    <tr>\n",
       "      <th>2018-03-21</th>\n",
       "      <td>92.930</td>\n",
       "      <td>94.050</td>\n",
       "      <td>92.21</td>\n",
       "      <td>92.48</td>\n",
       "      <td>23753263.0</td>\n",
       "      <td>0.0</td>\n",
       "      <td>1.0</td>\n",
       "      <td>92.930</td>\n",
       "      <td>94.050</td>\n",
       "      <td>92.21</td>\n",
       "      <td>92.48</td>\n",
       "      <td>23753263.0</td>\n",
       "    </tr>\n",
       "    <tr>\n",
       "      <th>2018-03-22</th>\n",
       "      <td>91.265</td>\n",
       "      <td>91.750</td>\n",
       "      <td>89.66</td>\n",
       "      <td>89.79</td>\n",
       "      <td>37578166.0</td>\n",
       "      <td>0.0</td>\n",
       "      <td>1.0</td>\n",
       "      <td>91.265</td>\n",
       "      <td>91.750</td>\n",
       "      <td>89.66</td>\n",
       "      <td>89.79</td>\n",
       "      <td>37578166.0</td>\n",
       "    </tr>\n",
       "    <tr>\n",
       "      <th>2018-03-23</th>\n",
       "      <td>89.500</td>\n",
       "      <td>90.460</td>\n",
       "      <td>87.08</td>\n",
       "      <td>87.18</td>\n",
       "      <td>42159397.0</td>\n",
       "      <td>0.0</td>\n",
       "      <td>1.0</td>\n",
       "      <td>89.500</td>\n",
       "      <td>90.460</td>\n",
       "      <td>87.08</td>\n",
       "      <td>87.18</td>\n",
       "      <td>42159397.0</td>\n",
       "    </tr>\n",
       "    <tr>\n",
       "      <th>2018-03-26</th>\n",
       "      <td>90.610</td>\n",
       "      <td>94.000</td>\n",
       "      <td>90.40</td>\n",
       "      <td>93.78</td>\n",
       "      <td>55031149.0</td>\n",
       "      <td>0.0</td>\n",
       "      <td>1.0</td>\n",
       "      <td>90.610</td>\n",
       "      <td>94.000</td>\n",
       "      <td>90.40</td>\n",
       "      <td>93.78</td>\n",
       "      <td>55031149.0</td>\n",
       "    </tr>\n",
       "    <tr>\n",
       "      <th>2018-03-27</th>\n",
       "      <td>94.940</td>\n",
       "      <td>95.139</td>\n",
       "      <td>88.51</td>\n",
       "      <td>89.47</td>\n",
       "      <td>53704562.0</td>\n",
       "      <td>0.0</td>\n",
       "      <td>1.0</td>\n",
       "      <td>94.940</td>\n",
       "      <td>95.139</td>\n",
       "      <td>88.51</td>\n",
       "      <td>89.47</td>\n",
       "      <td>53704562.0</td>\n",
       "    </tr>\n",
       "  </tbody>\n",
       "</table>\n",
       "</div>"
      ],
      "text/plain": [
       "            WIKI/MSFT - Open  WIKI/MSFT - High  WIKI/MSFT - Low  \\\n",
       "Date                                                              \n",
       "2018-03-21            92.930            94.050            92.21   \n",
       "2018-03-22            91.265            91.750            89.66   \n",
       "2018-03-23            89.500            90.460            87.08   \n",
       "2018-03-26            90.610            94.000            90.40   \n",
       "2018-03-27            94.940            95.139            88.51   \n",
       "\n",
       "            WIKI/MSFT - Close  WIKI/MSFT - Volume  WIKI/MSFT - Ex-Dividend  \\\n",
       "Date                                                                         \n",
       "2018-03-21              92.48          23753263.0                      0.0   \n",
       "2018-03-22              89.79          37578166.0                      0.0   \n",
       "2018-03-23              87.18          42159397.0                      0.0   \n",
       "2018-03-26              93.78          55031149.0                      0.0   \n",
       "2018-03-27              89.47          53704562.0                      0.0   \n",
       "\n",
       "            WIKI/MSFT - Split Ratio  WIKI/MSFT - Adj. Open  \\\n",
       "Date                                                         \n",
       "2018-03-21                      1.0                 92.930   \n",
       "2018-03-22                      1.0                 91.265   \n",
       "2018-03-23                      1.0                 89.500   \n",
       "2018-03-26                      1.0                 90.610   \n",
       "2018-03-27                      1.0                 94.940   \n",
       "\n",
       "            WIKI/MSFT - Adj. High  WIKI/MSFT - Adj. Low  \\\n",
       "Date                                                      \n",
       "2018-03-21                 94.050                 92.21   \n",
       "2018-03-22                 91.750                 89.66   \n",
       "2018-03-23                 90.460                 87.08   \n",
       "2018-03-26                 94.000                 90.40   \n",
       "2018-03-27                 95.139                 88.51   \n",
       "\n",
       "            WIKI/MSFT - Adj. Close  WIKI/MSFT - Adj. Volume  \n",
       "Date                                                         \n",
       "2018-03-21                   92.48               23753263.0  \n",
       "2018-03-22                   89.79               37578166.0  \n",
       "2018-03-23                   87.18               42159397.0  \n",
       "2018-03-26                   93.78               55031149.0  \n",
       "2018-03-27                   89.47               53704562.0  "
      ]
     },
     "execution_count": 23,
     "metadata": {},
     "output_type": "execute_result"
    }
   ],
   "source": [
    "mydata.describe()"
   ]
  },
  {
   "cell_type": "code",
   "execution_count": 21,
   "metadata": {},
   "outputs": [
    {
     "data": {
      "text/plain": [
       "<matplotlib.axes._subplots.AxesSubplot at 0x117155f28>"
      ]
     },
     "execution_count": 21,
     "metadata": {},
     "output_type": "execute_result"
    },
    {
     "data": {
      "image/png": "[encoded data removed]",
      "text/plain": [
       "<Figure size 432x288 with 1 Axes>"
      ]
     },
     "metadata": {},
     "output_type": "display_data"
    }
   ],
   "source": [
    "mydata[\"WIKI/MSFT - Open\"].plot()"
   ]
  },
  {
   "cell_type": "code",
   "execution_count": 20,
   "metadata": {
    "collapsed": true
   },
   "outputs": [],
   "source": [
    "mydata.to_csv(\"Microsoft Stockprice ts.csv\") #saving data for late use"
   ]
  }
 ],
 "metadata": {
  "kernelspec": {
   "display_name": "Python 3",
   "language": "python",
   "name": "python3"
  },
  "language_info": {
   "codemirror_mode": {
    "name": "ipython",
    "version": 3
   },
   "file_extension": ".py",
   "mimetype": "text/x-python",
   "name": "python",
   "nbconvert_exporter": "python",
   "pygments_lexer": "ipython3",
   "version": "3.6.3"
  }
 },
 "nbformat": 4,
 "nbformat_minor": 2
}
